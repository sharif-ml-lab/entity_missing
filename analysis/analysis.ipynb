{
 "cells": [
  {
   "cell_type": "code",
   "execution_count": 1,
   "metadata": {},
   "outputs": [],
   "source": [
    "! pip install git+https://github.com/huggingface/transformers\n",
    "! git clone https://github.com/Yushi-Hu/tifa"
   ]
  },
  {
   "cell_type": "code",
   "execution_count": 1,
   "metadata": {},
   "outputs": [],
   "source": [
    "import os\n",
    "import numpy as np\n",
    "import pandas as pd\n",
    "import requests\n",
    "from PIL import Image\n",
    "import torch\n",
    "from transformers import ViltProcessor, ViltForQuestionAnswering\n",
    "import requests\n",
    "from PIL import Image\n",
    "import matplotlib.pyplot as plt\n",
    "import numpy as np\n",
    "import seaborn as sns\n",
    "from tqdm import tqdm"
   ]
  },
  {
   "cell_type": "code",
   "execution_count": 2,
   "metadata": {},
   "outputs": [
    {
     "name": "stdout",
     "output_type": "stream",
     "text": [
      "2485\n"
     ]
    }
   ],
   "source": [
    "# Address of the generated images\n",
    "base_address = \"./two_entity_images\"\n",
    "\n",
    "seed = 42\n",
    "\n",
    "prompts = [prompt for prompt in os.listdir(base_address) if prompt.split(\".\")[-1] != \"csv\"]\n",
    "print(len(prompts))"
   ]
  },
  {
   "cell_type": "code",
   "execution_count": null,
   "metadata": {},
   "outputs": [],
   "source": [
    "from tifa.tifascore.vqa_models import BLIP2, VQAModel\n",
    "\n",
    "tifa_model = VQAModel(\"mplug-large\")"
   ]
  },
  {
   "cell_type": "code",
   "execution_count": 3,
   "metadata": {},
   "outputs": [],
   "source": [
    "def calculate_vqa_score(vqa_model, prompts, seed):\n",
    "    vqa_scores = []\n",
    "    for prompt in tqdm(prompts):\n",
    "        entity_1, entity_2 = prompt.split(\" \")[1], prompt.split(\" \")[4]\n",
    "        question_1 = f\"Is there any {entity_1} in the picture?\"\n",
    "        question_2 = f\"Is there any {entity_2} in the picture?\"\n",
    "        image_address = f\"{base_address}/{prompt}/{seed}/image.png\"\n",
    "        score_1 = 1 if (vqa_model.multiple_choice_vqa(image_address, question_1, choices=['yes', 'no']))['multiple_choice_answer']==\"yes\" else 0\n",
    "        score_2 = 1 if (vqa_model.multiple_choice_vqa(image_address, question_2, choices=['yes', 'no']))['multiple_choice_answer']==\"yes\" else 0\n",
    "        vqa_scores.append((score_1 + score_2) / 2)\n",
    "    return vqa_scores"
   ]
  },
  {
   "cell_type": "code",
   "execution_count": 6,
   "metadata": {},
   "outputs": [
    {
     "name": "stderr",
     "output_type": "stream",
     "text": [
      "  0%|          | 0/2485 [00:00<?, ?it/s]c:\\Users\\user01\\anaconda3\\envs\\attend_and_excite_2\\lib\\site-packages\\torch\\utils\\checkpoint.py:429: UserWarning: torch.utils.checkpoint: please pass in use_reentrant=True or use_reentrant=False explicitly. The default value of use_reentrant will be updated to be False in the future. To maintain current behavior, pass use_reentrant=True. It is recommended that you use use_reentrant=False. Refer to docs for more details on the differences between the two variants.\n",
      "  warnings.warn(\n",
      "c:\\Users\\user01\\anaconda3\\envs\\attend_and_excite_2\\lib\\site-packages\\torch\\utils\\checkpoint.py:61: UserWarning: None of the inputs have requires_grad=True. Gradients will be None\n",
      "  warnings.warn(\n",
      "100%|██████████| 2485/2485 [42:00<00:00,  1.01s/it]\n"
     ]
    }
   ],
   "source": [
    "vqa_scores = calculate_vqa_score(tifa_model, prompts, seed)\n",
    "\n",
    "pd.DataFrame(data={\"prompt\": prompts, \"vqa_score\": vqa_scores}).to_csv(f\"{base_address}/tifa_scores.csv\", index=False)"
   ]
  },
  {
   "cell_type": "code",
   "execution_count": 7,
   "metadata": {},
   "outputs": [],
   "source": [
    "pd.DataFrame(data={\"prompt\": prompts, \"vqa_score\": vqa_scores}).to_csv(f\"{base_address}/tifa_scores.csv\", index=False)"
   ]
  },
  {
   "cell_type": "code",
   "execution_count": 3,
   "metadata": {},
   "outputs": [
    {
     "name": "stdout",
     "output_type": "stream",
     "text": [
      "2485\n"
     ]
    }
   ],
   "source": [
    "vqa_scores = pd.read_csv(f\"{base_address}/tifa_scores.csv\")[\"vqa_score\"].tolist()\n",
    "\n",
    "print(len(vqa_scores))"
   ]
  },
  {
   "cell_type": "code",
   "execution_count": 4,
   "metadata": {},
   "outputs": [
    {
     "name": "stdout",
     "output_type": "stream",
     "text": [
      "20\n",
      "190 190\n",
      "190 190\n"
     ]
    }
   ],
   "source": [
    "validate_entities = pd.read_csv(\"../entities/validation_entities.csv\")[\"entity\"].tolist()\n",
    "print(len(validate_entities))\n",
    "\n",
    "validation_prompts, validation_vqa_scores = [], []\n",
    "\n",
    "for index, prompt in enumerate(prompts):\n",
    "    entity_1, entity_2 = prompt.split(\" \")[1], prompt.split(\" \")[4]\n",
    "    if entity_1 in validate_entities and entity_2 in validate_entities:\n",
    "        validation_prompts.append(prompt)\n",
    "        validation_vqa_scores.append(vqa_scores[index])\n",
    "\n",
    "print(len(validation_prompts), len(validation_vqa_scores))\n",
    "\n",
    "prompts, vqa_scores = validation_prompts, validation_vqa_scores\n",
    "\n",
    "print(len(prompts), len(vqa_scores))"
   ]
  },
  {
   "cell_type": "code",
   "execution_count": 5,
   "metadata": {},
   "outputs": [],
   "source": [
    "analysis_df = pd.read_csv(f\"{base_address}/{prompts[0]}/{seed}/analysis.csv\")\n",
    "steps = analysis_df[\"step\"].values.tolist()\n",
    "analysis_df.drop(columns=[\"step\"], inplace=True)\n",
    "metrics = analysis_df.columns.values.tolist()\n",
    "\n",
    "analysis_dict = {metric: {step: [] for step in steps} for metric in pd.read_csv(f\"{base_address}/{prompts[0]}/{seed}/analysis.csv\").columns.values.tolist()}\n",
    "\n",
    "for i, prompt in enumerate(prompts):\n",
    "    prompt_analysis_df = pd.read_csv(f\"{base_address}/{prompt}/{seed}/analysis.csv\")\n",
    "    for metric in metrics:\n",
    "        for step in steps:\n",
    "            analysis_dict[metric][step].append(prompt_analysis_df[metric].values.tolist()[step])"
   ]
  },
  {
   "cell_type": "code",
   "execution_count": 6,
   "metadata": {},
   "outputs": [],
   "source": [
    "analysis_dict[\"com_distance\"] = {step: [] for step in steps}\n",
    "for step in steps:\n",
    "    for index in range(len(prompts)):\n",
    "        analysis_dict[\"com_distance\"][step].append(np.sqrt(np.power(analysis_dict[\"com_1_x\"][step][index] - analysis_dict[\"com_2_x\"][step][index], 2) + \n",
    "                                                   np.power(analysis_dict[\"com_1_y\"][step][index] - analysis_dict[\"com_2_y\"][step][index], 2)))"
   ]
  },
  {
   "cell_type": "code",
   "execution_count": 7,
   "metadata": {},
   "outputs": [],
   "source": [
    "analysis_dict[\"mean_kl\"] = {step: [] for step in steps}\n",
    "for step in steps:\n",
    "    for index in range(len(prompts)):\n",
    "        analysis_dict[\"mean_kl\"][step].append((analysis_dict[\"kl_1_2\"][step][index] + analysis_dict[\"kl_2_1\"][step][index])/2)"
   ]
  },
  {
   "cell_type": "code",
   "execution_count": 8,
   "metadata": {},
   "outputs": [],
   "source": [
    "analysis_dict[\"mean_tv\"] = {step: [] for step in steps}\n",
    "for step in steps:\n",
    "    for index in range(len(prompts)):\n",
    "        analysis_dict[\"mean_tv\"][step].append((analysis_dict[\"tv_1\"][step][index] + analysis_dict[\"tv_2\"][step][index])/2)"
   ]
  },
  {
   "cell_type": "code",
   "execution_count": 9,
   "metadata": {},
   "outputs": [],
   "source": [
    "analysis_dict[\"mean_variance\"] = {step: [] for step in steps}\n",
    "for step in steps:\n",
    "    for index in range(len(prompts)):\n",
    "        analysis_dict[\"mean_variance\"][step].append((analysis_dict[\"variance_1\"][step][index] + analysis_dict[\"variance_1\"][step][index])/2)"
   ]
  },
  {
   "cell_type": "code",
   "execution_count": 10,
   "metadata": {},
   "outputs": [],
   "source": [
    "analysis_dict[\"min_intensity\"] = {step: [] for step in steps}\n",
    "for step in steps:\n",
    "    for index in range(len(prompts)):\n",
    "        analysis_dict[\"min_intensity\"][step].append(min(analysis_dict[\"intensity_1\"][step][index], analysis_dict[\"intensity_2\"][step][index]))"
   ]
  },
  {
   "cell_type": "code",
   "execution_count": 13,
   "metadata": {},
   "outputs": [],
   "source": [
    "font = {\"fontname\": \"Times New Roman\"}\n",
    "\n",
    "def generate_bar_plot(metric_values, vqa_scores, step, n_bins, n_round, rotation, title, xlabel, ylabel, width, fig_index, fig_base_address):\n",
    "    bin_width = round((max(metric_values) - min(metric_values)) / n_bins, n_round)\n",
    "    bins = {(round(start, n_round), round(start+bin_width, n_round)): 0 \n",
    "            for start in np.linspace(min(metric_values), max(metric_values) - bin_width, n_bins)}\n",
    "    bins_counter = {bin: 0 for bin in bins.keys()}\n",
    "\n",
    "    for index, metric_value in enumerate(metric_values): \n",
    "        for (lb, up) in bins.keys():\n",
    "            if lb < metric_value <= up:\n",
    "                bins[(lb, up)] += vqa_scores[index]\n",
    "                bins_counter[(lb, up)] += 1\n",
    "    \n",
    "    for key in bins.keys():\n",
    "        if bins_counter[key] > 0:\n",
    "            bins[key] /= bins_counter[key]\n",
    "    \n",
    "    must_remove = []\n",
    "    for key, value in bins.items():\n",
    "        if value == 0:\n",
    "            must_remove.append(key)\n",
    "    for remove_key in must_remove:\n",
    "        bins.pop(remove_key)\n",
    "\n",
    "    last_up = None\n",
    "    changes = dict()\n",
    "    for key in bins.keys():\n",
    "        old_lb, up = key\n",
    "        if last_up is not None and old_lb < last_up:\n",
    "            changes[(last_up, up)] = (old_lb, up)\n",
    "        last_up = up\n",
    "    for key, value in changes.items():\n",
    "        bins[key] = bins.pop(value)\n",
    "        \n",
    "    sorted_keys = sorted(list(bins.keys()))\n",
    "    bins = {key: bins[key] for key in sorted_keys}\n",
    "    \n",
    "\n",
    "    plt.bar([f\"{lb}-{up}\" for (lb, up) in bins.keys()], \n",
    "            list(bins.values()), \n",
    "            color='#7D87F9',\n",
    "            zorder=3,\n",
    "            alpha=1,\n",
    "            width=[count/sum(bins_counter.values()) for count in bins_counter.values()] if width else 0.5,)\n",
    "    \n",
    "    plt.plot([f\"{lb}-{up}\" for (lb, up) in bins.keys()], \n",
    "             list(bins.values()),\n",
    "             \"*-\",\n",
    "             color=\"#7D87F9\")\n",
    "    \n",
    "    plt.xticks(rotation=rotation, **font)\n",
    "    plt.yticks(**font)\n",
    "    fontsize = 30\n",
    "    # plt.ylabel(ylabel, fontweight=\"bold\", fontsize=fontsize, labelpad=7, **font)\n",
    "    # plt.xlabel(xlabel, fontweight=\"bold\", fontsize=fontsize, labelpad=7, **font)\n",
    "    # plt.title(f\"({fig_index})\",fontweight=\"bold\", fontsize=fontsize, **font)\n",
    "    plt.gca().spines['left'].set_visible(False)\n",
    "    plt.gca().spines['right'].set_visible(False)\n",
    "    plt.gca().spines['bottom'].set_visible(False)\n",
    "    plt.gca().spines['top'].set_visible(False)\n",
    "    # plt.gca().set_facecolor(\"lightgray\")\n",
    "    \n",
    "    # plt.title(title)\n",
    "    # plt.grid(axis='y', zorder=0)\n",
    "    # plt.show()\n",
    "    plt.savefig(f\"{fig_base_address}/{xlabel}.pdf\", bbox_inches='tight')\n",
    "    plt.savefig(f\"{fig_base_address}/{xlabel}.png\", bbox_inches='tight')\n",
    "    plt.close()"
   ]
  },
  {
   "cell_type": "code",
   "execution_count": null,
   "metadata": {},
   "outputs": [],
   "source": [
    "plot_info_list = [{\"metric\": \"overlap_ps\", \"coef\": 1, \"step\": 50, \"n_bins\": 4, \"n_rounds\": 2, \"xlabel\": \"PS Overlap\", \"fig_index\": \"A\"},\n",
    "                  {\"metric\": \"com_distance\", \"coef\": 1, \"step\": 50, \"n_bins\": 4, \"n_rounds\": 2, \"xlabel\": \"CoM Distance\", \"fig_index\": \"C\"},\n",
    "                  {\"metric\": \"mean_kl\", \"coef\": 1, \"step\": 50, \"n_bins\": 4, \"n_rounds\": 2, \"xlabel\": \"KL Divergence\", \"fig_index\": \"D\"},\n",
    "                  {\"metric\": \"cc\", \"coef\": 100, \"step\": 50, \"n_bins\": 4, \"n_rounds\": 2, \"xlabel\": \"Clustering Compactness\", \"fig_index\": \"E\"},\n",
    "                  {\"metric\": \"min_intensity\", \"coef\": 100, \"step\": 50, \"n_bins\": 4, \"n_rounds\": 2, \"xlabel\": \"Min Intensity\", \"fig_index\": \"F\"},\n",
    "                  {\"metric\": \"mean_variance\", \"coef\": 1, \"step\": 50, \"n_bins\": 4, \"n_rounds\": 1, \"xlabel\": \"Variance\", \"fig_index\": \"G\"}]\n",
    "\n",
    "fig_base_address = \"figures\"\n",
    "\n",
    "for plot_info in plot_info_list:\n",
    "    print(plot_info[\"metric\"])\n",
    "    generate_bar_plot(metric_values=np.array(analysis_dict[plot_info[\"metric\"]][plot_info[\"step\"]]) * plot_info[\"coef\"], \n",
    "                      vqa_scores=vqa_scores,\n",
    "                      step=plot_info[\"step\"],\n",
    "                      n_bins=plot_info[\"n_bins\"],\n",
    "                      n_round=plot_info[\"n_rounds\"],\n",
    "                      rotation=0,\n",
    "                      title=f\"t={plot_info['step']}\",\n",
    "                      xlabel=plot_info[\"xlabel\"],\n",
    "                      ylabel=\"VQA Score\",\n",
    "                      width=False,\n",
    "                      fig_index=plot_info[\"fig_index\"],\n",
    "                      fig_base_address=fig_base_address)"
   ]
  },
  {
   "cell_type": "code",
   "execution_count": 12,
   "metadata": {},
   "outputs": [
    {
     "data": {
      "image/png": "[encoded data removed]",
      "text/plain": [
       "<Figure size 1000x800 with 2 Axes>"
      ]
     },
     "metadata": {},
     "output_type": "display_data"
    }
   ],
   "source": [
    "step = 50\n",
    "df = pd.DataFrame(data={\"KL Divergence\": analysis_dict[\"mean_kl\"][step],\n",
    "                        \"CC\": analysis_dict[\"mean_kl\"][step],\n",
    "                        \"IoU\": analysis_dict[\"overlap_ps\"][step],\n",
    "                        \"CoM Distance\": analysis_dict[\"com_distance\"][step],\n",
    "                        \"Intensity\": analysis_dict[\"min_intensity\"][step],\n",
    "                        \"Variance\": analysis_dict[\"mean_variance\"][step],\n",
    "                        \"VQA Score\": vqa_scores})\n",
    "\n",
    "fig_base_address = \"figures\"\n",
    "\n",
    "corr = df.corr()\n",
    "\n",
    "mask = np.zeros_like(corr)\n",
    "mask[np.triu_indices_from(mask)] = True\n",
    "np.fill_diagonal(mask, False)\n",
    "\n",
    "plt.rcParams[\"font.family\"] = \"Times New Roman\"\n",
    "plt.rcParams[\"font.weight\"] = \"bold\"\n",
    "plt.rcParams[\"axes.labelweight\"] = \"bold\"\n",
    "f, ax = plt.subplots(figsize=(10, 8))\n",
    "\n",
    "sns.set(font_scale=1.3, font=\"Times New Roman\")\n",
    "sns.heatmap(corr,\n",
    "    cmap=sns.diverging_palette(260, 10, as_cmap=True),\n",
    "    vmin=-1, vmax=1,\n",
    "    square=True, ax=ax, annot=True, fmt='.1g',\n",
    "    mask=mask\n",
    "    )\n",
    "    # annot_kws={\"fontsize\":30})\n",
    "plt.savefig(f\"{fig_base_address}/analysis_corr_matrix.pdf\", bbox_inches='tight')\n",
    "plt.savefig(f\"{fig_base_address}/analysis_corr_matrix.png\", bbox_inches='tight')"
   ]
  }
 ],
 "metadata": {
  "kernelspec": {
   "display_name": "attend_and_excite_2",
   "language": "python",
   "name": "python3"
  },
  "language_info": {
   "codemirror_mode": {
    "name": "ipython",
    "version": 3
   },
   "file_extension": ".py",
   "mimetype": "text/x-python",
   "name": "python",
   "nbconvert_exporter": "python",
   "pygments_lexer": "ipython3",
   "version": "3.9.18"
  }
 },
 "nbformat": 4,
 "nbformat_minor": 2
}
